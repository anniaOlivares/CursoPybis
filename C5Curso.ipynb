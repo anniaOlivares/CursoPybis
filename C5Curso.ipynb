{
 "cells": [
  {
   "cell_type": "markdown",
   "id": "b7df8032",
   "metadata": {},
   "source": [
    "celda de texto"
   ]
  },
  {
   "cell_type": "code",
   "execution_count": 1,
   "id": "93ecbc86",
   "metadata": {},
   "outputs": [
    {
     "data": {
      "text/plain": [
       "2"
      ]
     },
     "execution_count": 1,
     "metadata": {},
     "output_type": "execute_result"
    }
   ],
   "source": [
    "1+1"
   ]
  },
  {
   "cell_type": "markdown",
   "id": "5af8e60b",
   "metadata": {},
   "source": [
    "Definimos un archivo .py para almacenar nuestra propia librería, de donde ahi subirmeos la clase de nuestro proyecto ... ¡Y qué hace el proyecti?\n",
    "\n",
    "1. Generar ventas de las papelerias en un dia dado ---> df\n",
    "2. Queremos subir ese df a nuestra base de datos ---> inicializar_bbdd, subir_df\n",
    "\n",
    "* Inicializar_bddd: se crea en automatico la base y la tabla SQL, y además se sube por primera vez el df generado\n",
    "* subir_df: subir el df generado\n",
    "\n",
    "¿Qué estamos tratando de simular?\n",
    "1. Cómo montar un flujo de datos: insumo ---> bbdd ---> análisis ---> Power BI\n",
    "2. Automatizar el proceso con la librería (nuestro código ahora es más limpio también)"
   ]
  },
  {
   "cell_type": "code",
   "execution_count": null,
   "metadata": {},
   "outputs": [
    {
     "name": "stdout",
     "output_type": "stream",
     "text": [
      "Base de datos inicializada y datos subidos correctamente.\n",
      "Dataframe subido correctamente a la base de datos.\n"
     ]
    }
   ],
   "source": [
    "# Es como con la libreria pandas as pd\n",
    "#nombramos la libreria tools en .py y \n",
    "#mandamos a llamar sus funciones \n",
    "\n",
    "# # Pones de donde e importamos la libreria\n",
    "from pym import tools\n",
    "\n",
    "df_1 = tools.generar_df_ventas(\"2025-05-01\", 1000)\n",
    "tools.inicializar_bbdd(df_1)\n",
    "\n",
    "#Subimos la info del 2 de enero\n",
    "tools.subir_df(tools.generar_df_ventas(\"2025-05-02\", 1000))"
   ]
  },
  {
   "cell_type": "code",
   "execution_count": 14,
   "id": "9fae2915",
   "metadata": {},
   "outputs": [
    {
     "name": "stdout",
     "output_type": "stream",
     "text": [
      "Dataframe subido correctamente a la base de datos.\n"
     ]
    }
   ],
   "source": [
    "tools.subir_df(tools.generar_df_ventas(\"2025-05-03\", 1000))"
   ]
  },
  {
   "cell_type": "code",
   "execution_count": 15,
   "id": "a33f3fef",
   "metadata": {},
   "outputs": [
    {
     "name": "stdout",
     "output_type": "stream",
     "text": [
      "Dataframe subido correctamente a la base de datos.\n"
     ]
    }
   ],
   "source": [
    "tools.subir_df(tools.generar_df_ventas(\"2025-05-04\", 1000))"
   ]
  }
 ],
 "metadata": {
  "kernelspec": {
   "display_name": "Python 3",
   "language": "python",
   "name": "python3"
  },
  "language_info": {
   "codemirror_mode": {
    "name": "ipython",
    "version": 3
   },
   "file_extension": ".py",
   "mimetype": "text/x-python",
   "name": "python",
   "nbconvert_exporter": "python",
   "pygments_lexer": "ipython3",
   "version": "3.12.1"
  }
 },
 "nbformat": 4,
 "nbformat_minor": 5
}
